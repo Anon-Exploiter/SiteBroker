{
  "nbformat": 4,
  "nbformat_minor": 0,
  "metadata": {
    "colab": {
      "name": "SiteBroker",
      "provenance": [],
      "authorship_tag": "ABX9TyM2ESFYJzyZHjcdkY6B0fEB",
      "include_colab_link": true
    },
    "kernelspec": {
      "name": "python3",
      "display_name": "Python 3"
    }
  },
  "cells": [
    {
      "cell_type": "markdown",
      "metadata": {
        "id": "view-in-github",
        "colab_type": "text"
      },
      "source": [
        "<a href=\"https://colab.research.google.com/github/Anon-Exploiter/SiteBroker/blob/master/SiteBroker.ipynb\" target=\"_parent\"><img src=\"https://colab.research.google.com/assets/colab-badge.svg\" alt=\"Open In Colab\"/></a>"
      ]
    },
    {
      "cell_type": "code",
      "metadata": {
        "id": "D5b8bb8pbAl1",
        "outputId": "6eb9639c-3d46-4eb8-d702-71f1f20a7861",
        "colab": {
          "base_uri": "https://localhost:8080/",
          "height": 250
        }
      },
      "source": [
        "!git clone https://github.com/Anon-Exploiter/SiteBroker &>/dev/null && \\\n",
        "    cd SiteBroker && \\\n",
        "    pip3 install -r requirements.txt &>/dev/null && \\\n",
        "    python3 SiteBroker.py"
      ],
      "execution_count": null,
      "outputs": [
        {
          "output_type": "stream",
          "text": [
            "\n",
            "\u001b[0;92m\u001b[1m  /$$$$$$  /$$   /$$               /$$$$$$$                      /$$                          \n",
            " /$$__  $$|__/  | $$              | $$__  $$                    | $$                          \n",
            "| $$  \\__/ /$$ /$$$$$$    /$$$$$$ | $$  \\ $$  /$$$$$$   /$$$$$$ | $$   /$$  /$$$$$$   /$$$$$$ \n",
            "|  $$$$$$ | $$|_  $$_/   /$$__  $$| $$$$$$$  /$$__  $$ /$$__  $$| $$  /$$/ /$$__  $$ /$$__  $$\n",
            " \\____  $$| $$  | $$    | $$$$$$$$| $$__  $$| $$  \\__/| $$  \\ $$| $$$$$$/ | $$$$$$$$| $$  \\__/\n",
            " /$$  \\ $$| $$  | $$ /$$| $$_____/| $$  \\ $$| $$      | $$  | $$| $$_  $$ | $$_____/| $$      \n",
            "|  $$$$$$/| $$  |  $$$$/|  $$$$$$$| $$$$$$$/| $$      |  $$$$$$/| $$ \\  $$|  $$$$$$$| $$      \n",
            " \\______/ |__/   \\___/   \\_______/|_______/ |__/       \\______/ |__/  \\__/ \\_______/|__/  \u001b[0;94m\u001b[1m~ By Syed Umar Arfeen (An0n 3xPloiTeR)\n",
            "\n",
            "\u001b[0;33m\u001b[1mGreetz ~ \u001b[0;91m\u001b[1mMakman <3\u001b[0;92m\u001b[1m | Jokr HaXoR\u001b[0;33m\u001b[1m | An0nGuy\u001b[0;94m\u001b[1m | Shariq Malik\u001b[0;96m\u001b[1m | r0oth3x49\u001b[0;33m\u001b[1m | inj3ctor 0sman\u001b[0m\n",
            "\u001b[0m\n",
            "\u001b[0;94m\u001b[1m[$] Please Enter The Website You Want To Scan \u001b[0;91m\u001b[1m(i.e, hackthissite.org, hack.me): \u001b[0;33m\u001b[1m"
          ],
          "name": "stdout"
        }
      ]
    }
  ]
}
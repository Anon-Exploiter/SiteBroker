{
  "nbformat": 4,
  "nbformat_minor": 0,
  "metadata": {
    "colab": {
      "name": "SiteBroker",
      "provenance": [],
      "authorship_tag": "ABX9TyMwHWoTLosry/saC9onc7IC",
      "include_colab_link": true
    },
    "kernelspec": {
      "name": "python3",
      "display_name": "Python 3"
    }
  },
  "cells": [
    {
      "cell_type": "markdown",
      "metadata": {
        "id": "view-in-github",
        "colab_type": "text"
      },
      "source": [
        "<a href=\"https://colab.research.google.com/github/Anon-Exploiter/SiteBroker/blob/master/SiteBroker.ipynb\" target=\"_parent\"><img src=\"https://colab.research.google.com/assets/colab-badge.svg\" alt=\"Open In Colab\"/></a>"
      ]
    },
    {
      "cell_type": "code",
      "metadata": {
        "id": "D5b8bb8pbAl1"
      },
      "source": [
        "!git clone https://github.com/Anon-Exploiter/SiteBroker &>/dev/null && \\\n",
        "    cd SiteBroker && \\\n",
        "    pip3 install -r requirements.txt &>/dev/null && \\\n",
        "    python3 SiteBroker.py\n"
      ],
      "execution_count": null,
      "outputs": []
    }
  ]
}